{
 "cells": [
  {
   "cell_type": "markdown",
   "metadata": {},
   "source": [
    "Checking the Data Types available in Python"
   ]
  },
  {
   "cell_type": "code",
   "execution_count": 1,
   "metadata": {},
   "outputs": [],
   "source": [
    "height = 1.34\n",
    "weight = 50\n",
    "overweight = True\n",
    "result = \"you are overweight\""
   ]
  },
  {
   "cell_type": "code",
   "execution_count": 2,
   "metadata": {},
   "outputs": [
    {
     "data": {
      "text/plain": [
       "float"
      ]
     },
     "execution_count": 2,
     "metadata": {},
     "output_type": "execute_result"
    }
   ],
   "source": [
    "type(height)"
   ]
  },
  {
   "cell_type": "code",
   "execution_count": 4,
   "metadata": {},
   "outputs": [
    {
     "name": "stdout",
     "output_type": "stream",
     "text": [
      "BMI Calculator\n",
      "0.20833333333333334\n",
      "You are very underweight\n"
     ]
    }
   ],
   "source": [
    "print ('BMI Calculator')\n",
    "weight = float(input(\"Input your weight in kgs:\"))\n",
    "height = float(input(\"Input your height in metres:\"))\n",
    "BMI = weight/(height*height)\n",
    "print(BMI)\n",
    "\n",
    "if(BMI>0):\n",
    "    if(BMI <= 16):\n",
    "        print(\"You are very underweight\")\n",
    "    elif(BMI <= 18.5):\n",
    "        print(\"You are underweight\")\n",
    "    elif(BMI <= 30):\n",
    "        print(\"You are overweight\")\n",
    "    elif(BMI <= 25):\n",
    "        print(\"Congrats! You are Healthy\")\n",
    "    else:\n",
    "        print(\"You are very overweight\")\n",
    "else:\n",
    "    print(\"Enter valid details.\")"
   ]
  },
  {
   "cell_type": "markdown",
   "metadata": {},
   "source": []
  }
 ],
 "metadata": {
  "kernelspec": {
   "display_name": "Python 3.9.7 ('.venv': venv)",
   "language": "python",
   "name": "python3"
  },
  "language_info": {
   "codemirror_mode": {
    "name": "ipython",
    "version": 3
   },
   "file_extension": ".py",
   "mimetype": "text/x-python",
   "name": "python",
   "nbconvert_exporter": "python",
   "pygments_lexer": "ipython3",
   "version": "3.9.7"
  },
  "orig_nbformat": 4,
  "vscode": {
   "interpreter": {
    "hash": "654b881860f6e99c52ea3822bef2e8dcba0b405a3eaeda54446fab7cf0182a69"
   }
  }
 },
 "nbformat": 4,
 "nbformat_minor": 2
}
